{
 "cells": [
  {
   "cell_type": "markdown",
   "metadata": {
    "colab_type": "text",
    "id": "HRylkj7CuA_2"
   },
   "source": [
    "**NIFTY 50 FORECASTING USING ANN**\n",
    "\n",
    "This program aims to make a model that is able to forecast nifty 50 index's next closing price given the previous 60 closing prices. To achieve this an Artificial neural network with four layers have been used. First two layers are LSTM layers with 50 neurons each and the other two layers are DENSE layers with 25 and 1 neuron each. The optimizer used is 'adam' and the loss function which the model tries to optimize is 'mean_squared_error'. \n",
    "\n",
    "Nifty 50 data is taken from Yahoo's Api using the ticker symbol *'^NSEI'*  for the period of 1 jan 2012 to 15 April 2020. There are 2022 data points for the nifty index, out of which eighty percent of data is used to train the model and the rest is used as a validation set to compare the predictions and actual data and to find other efficiency criterias like root mean squared error(rmse).\n",
    "\n",
    "The program also has visualizations forecasted and actual prices.\n",
    "\n",
    ".\n",
    "\n",
    "\n"
   ]
  },
  {
   "cell_type": "code",
   "execution_count": 1,
   "metadata": {
    "colab": {
     "base_uri": "https://localhost:8080/",
     "height": 87
    },
    "colab_type": "code",
    "executionInfo": {
     "elapsed": 3049,
     "status": "ok",
     "timestamp": 1587417395248,
     "user": {
      "displayName": "Bhumanyu Singh",
      "photoUrl": "",
      "userId": "01555403889424380237"
     },
     "user_tz": -330
    },
    "id": "Jt7PsQJDKcfc",
    "outputId": "b1a2cd04-c8d9-4f19-9c02-9bc9e33bacab"
   },
   "outputs": [],
   "source": [
    "#importing the libraries\n",
    "import math\n",
    "import pandas_datareader as web\n",
    "import numpy as np\n",
    "import pandas as pd\n",
    "from sklearn.preprocessing import MinMaxScaler\n",
    "from keras.models import Sequential\n",
    "from keras.layers import Dense,LSTM\n",
    "import matplotlib.pyplot as plt"
   ]
  },
  {
   "cell_type": "code",
   "execution_count": 2,
   "metadata": {
    "colab": {},
    "colab_type": "code",
    "id": "U_Pmw54gLMrE"
   },
   "outputs": [],
   "source": [
    "#Get the index quote from yahoo for the duration starting 1 jan 2012 to 15 april 2020\n",
    "df = web.DataReader( '^NSEI',data_source='yahoo',start='2012-01-01',end='2020-04-15')"
   ]
  },
  {
   "cell_type": "code",
   "execution_count": 3,
   "metadata": {
    "colab": {
     "base_uri": "https://localhost:8080/",
     "height": 431
    },
    "colab_type": "code",
    "executionInfo": {
     "elapsed": 3790,
     "status": "ok",
     "timestamp": 1587417396085,
     "user": {
      "displayName": "Bhumanyu Singh",
      "photoUrl": "",
      "userId": "01555403889424380237"
     },
     "user_tz": -330
    },
    "id": "K3tBloWyMHBG",
    "outputId": "1479743a-1d82-4a89-9dd4-e6945062a82c"
   },
   "outputs": [
    {
     "data": {
      "text/html": [
       "<div>\n",
       "<style scoped>\n",
       "    .dataframe tbody tr th:only-of-type {\n",
       "        vertical-align: middle;\n",
       "    }\n",
       "\n",
       "    .dataframe tbody tr th {\n",
       "        vertical-align: top;\n",
       "    }\n",
       "\n",
       "    .dataframe thead th {\n",
       "        text-align: right;\n",
       "    }\n",
       "</style>\n",
       "<table border=\"1\" class=\"dataframe\">\n",
       "  <thead>\n",
       "    <tr style=\"text-align: right;\">\n",
       "      <th></th>\n",
       "      <th>High</th>\n",
       "      <th>Low</th>\n",
       "      <th>Open</th>\n",
       "      <th>Close</th>\n",
       "      <th>Volume</th>\n",
       "      <th>Adj Close</th>\n",
       "    </tr>\n",
       "    <tr>\n",
       "      <th>Date</th>\n",
       "      <th></th>\n",
       "      <th></th>\n",
       "      <th></th>\n",
       "      <th></th>\n",
       "      <th></th>\n",
       "      <th></th>\n",
       "    </tr>\n",
       "  </thead>\n",
       "  <tbody>\n",
       "    <tr>\n",
       "      <th>2012-01-03</th>\n",
       "      <td>4773.100098</td>\n",
       "      <td>4675.799805</td>\n",
       "      <td>4675.799805</td>\n",
       "      <td>4765.299805</td>\n",
       "      <td>0.0</td>\n",
       "      <td>4765.299805</td>\n",
       "    </tr>\n",
       "    <tr>\n",
       "      <th>2012-01-04</th>\n",
       "      <td>4782.850098</td>\n",
       "      <td>4728.850098</td>\n",
       "      <td>4774.950195</td>\n",
       "      <td>4749.649902</td>\n",
       "      <td>0.0</td>\n",
       "      <td>4749.649902</td>\n",
       "    </tr>\n",
       "    <tr>\n",
       "      <th>2012-01-05</th>\n",
       "      <td>4779.799805</td>\n",
       "      <td>4730.149902</td>\n",
       "      <td>4749.000000</td>\n",
       "      <td>4749.950195</td>\n",
       "      <td>0.0</td>\n",
       "      <td>4749.950195</td>\n",
       "    </tr>\n",
       "    <tr>\n",
       "      <th>2012-01-06</th>\n",
       "      <td>4794.899902</td>\n",
       "      <td>4686.850098</td>\n",
       "      <td>4724.149902</td>\n",
       "      <td>4754.100098</td>\n",
       "      <td>0.0</td>\n",
       "      <td>4754.100098</td>\n",
       "    </tr>\n",
       "    <tr>\n",
       "      <th>2012-01-09</th>\n",
       "      <td>4758.700195</td>\n",
       "      <td>4695.450195</td>\n",
       "      <td>4747.549805</td>\n",
       "      <td>4742.799805</td>\n",
       "      <td>0.0</td>\n",
       "      <td>4742.799805</td>\n",
       "    </tr>\n",
       "    <tr>\n",
       "      <th>...</th>\n",
       "      <td>...</td>\n",
       "      <td>...</td>\n",
       "      <td>...</td>\n",
       "      <td>...</td>\n",
       "      <td>...</td>\n",
       "      <td>...</td>\n",
       "    </tr>\n",
       "    <tr>\n",
       "      <th>2020-04-07</th>\n",
       "      <td>8819.400391</td>\n",
       "      <td>8360.950195</td>\n",
       "      <td>8446.299805</td>\n",
       "      <td>8792.200195</td>\n",
       "      <td>814200.0</td>\n",
       "      <td>8792.200195</td>\n",
       "    </tr>\n",
       "    <tr>\n",
       "      <th>2020-04-08</th>\n",
       "      <td>9131.700195</td>\n",
       "      <td>8653.900391</td>\n",
       "      <td>8688.900391</td>\n",
       "      <td>8748.750000</td>\n",
       "      <td>896500.0</td>\n",
       "      <td>8748.750000</td>\n",
       "    </tr>\n",
       "    <tr>\n",
       "      <th>2020-04-09</th>\n",
       "      <td>9128.349609</td>\n",
       "      <td>8904.549805</td>\n",
       "      <td>8973.049805</td>\n",
       "      <td>9111.900391</td>\n",
       "      <td>742100.0</td>\n",
       "      <td>9111.900391</td>\n",
       "    </tr>\n",
       "    <tr>\n",
       "      <th>2020-04-13</th>\n",
       "      <td>9112.049805</td>\n",
       "      <td>8912.400391</td>\n",
       "      <td>9103.950195</td>\n",
       "      <td>8993.849609</td>\n",
       "      <td>644000.0</td>\n",
       "      <td>8993.849609</td>\n",
       "    </tr>\n",
       "    <tr>\n",
       "      <th>2020-04-15</th>\n",
       "      <td>9261.200195</td>\n",
       "      <td>8874.099609</td>\n",
       "      <td>9196.400391</td>\n",
       "      <td>8925.299805</td>\n",
       "      <td>879100.0</td>\n",
       "      <td>8925.299805</td>\n",
       "    </tr>\n",
       "  </tbody>\n",
       "</table>\n",
       "<p>2021 rows × 6 columns</p>\n",
       "</div>"
      ],
      "text/plain": [
       "                   High          Low         Open        Close    Volume  \\\n",
       "Date                                                                       \n",
       "2012-01-03  4773.100098  4675.799805  4675.799805  4765.299805       0.0   \n",
       "2012-01-04  4782.850098  4728.850098  4774.950195  4749.649902       0.0   \n",
       "2012-01-05  4779.799805  4730.149902  4749.000000  4749.950195       0.0   \n",
       "2012-01-06  4794.899902  4686.850098  4724.149902  4754.100098       0.0   \n",
       "2012-01-09  4758.700195  4695.450195  4747.549805  4742.799805       0.0   \n",
       "...                 ...          ...          ...          ...       ...   \n",
       "2020-04-07  8819.400391  8360.950195  8446.299805  8792.200195  814200.0   \n",
       "2020-04-08  9131.700195  8653.900391  8688.900391  8748.750000  896500.0   \n",
       "2020-04-09  9128.349609  8904.549805  8973.049805  9111.900391  742100.0   \n",
       "2020-04-13  9112.049805  8912.400391  9103.950195  8993.849609  644000.0   \n",
       "2020-04-15  9261.200195  8874.099609  9196.400391  8925.299805  879100.0   \n",
       "\n",
       "              Adj Close  \n",
       "Date                     \n",
       "2012-01-03  4765.299805  \n",
       "2012-01-04  4749.649902  \n",
       "2012-01-05  4749.950195  \n",
       "2012-01-06  4754.100098  \n",
       "2012-01-09  4742.799805  \n",
       "...                 ...  \n",
       "2020-04-07  8792.200195  \n",
       "2020-04-08  8748.750000  \n",
       "2020-04-09  9111.900391  \n",
       "2020-04-13  8993.849609  \n",
       "2020-04-15  8925.299805  \n",
       "\n",
       "[2021 rows x 6 columns]"
      ]
     },
     "execution_count": 3,
     "metadata": {},
     "output_type": "execute_result"
    }
   ],
   "source": [
    "#show the data\n",
    "df"
   ]
  },
  {
   "cell_type": "code",
   "execution_count": 4,
   "metadata": {
    "colab": {},
    "colab_type": "code",
    "id": "E7K9iJj6MJHi"
   },
   "outputs": [],
   "source": [
    "#Creating a new dataframe with just the closing price of index\n",
    "data = df.filter(['Close'])"
   ]
  },
  {
   "cell_type": "code",
   "execution_count": 5,
   "metadata": {
    "colab": {
     "base_uri": "https://localhost:8080/",
     "height": 431
    },
    "colab_type": "code",
    "executionInfo": {
     "elapsed": 3747,
     "status": "ok",
     "timestamp": 1587417396090,
     "user": {
      "displayName": "Bhumanyu Singh",
      "photoUrl": "",
      "userId": "01555403889424380237"
     },
     "user_tz": -330
    },
    "id": "4XOuMWxkTMeN",
    "outputId": "d6ef936f-8f21-4683-b017-ca5a6bc6eff0"
   },
   "outputs": [
    {
     "data": {
      "text/html": [
       "<div>\n",
       "<style scoped>\n",
       "    .dataframe tbody tr th:only-of-type {\n",
       "        vertical-align: middle;\n",
       "    }\n",
       "\n",
       "    .dataframe tbody tr th {\n",
       "        vertical-align: top;\n",
       "    }\n",
       "\n",
       "    .dataframe thead th {\n",
       "        text-align: right;\n",
       "    }\n",
       "</style>\n",
       "<table border=\"1\" class=\"dataframe\">\n",
       "  <thead>\n",
       "    <tr style=\"text-align: right;\">\n",
       "      <th></th>\n",
       "      <th>Close</th>\n",
       "    </tr>\n",
       "    <tr>\n",
       "      <th>Date</th>\n",
       "      <th></th>\n",
       "    </tr>\n",
       "  </thead>\n",
       "  <tbody>\n",
       "    <tr>\n",
       "      <th>2012-01-03</th>\n",
       "      <td>4765.299805</td>\n",
       "    </tr>\n",
       "    <tr>\n",
       "      <th>2012-01-04</th>\n",
       "      <td>4749.649902</td>\n",
       "    </tr>\n",
       "    <tr>\n",
       "      <th>2012-01-05</th>\n",
       "      <td>4749.950195</td>\n",
       "    </tr>\n",
       "    <tr>\n",
       "      <th>2012-01-06</th>\n",
       "      <td>4754.100098</td>\n",
       "    </tr>\n",
       "    <tr>\n",
       "      <th>2012-01-09</th>\n",
       "      <td>4742.799805</td>\n",
       "    </tr>\n",
       "    <tr>\n",
       "      <th>...</th>\n",
       "      <td>...</td>\n",
       "    </tr>\n",
       "    <tr>\n",
       "      <th>2020-04-07</th>\n",
       "      <td>8792.200195</td>\n",
       "    </tr>\n",
       "    <tr>\n",
       "      <th>2020-04-08</th>\n",
       "      <td>8748.750000</td>\n",
       "    </tr>\n",
       "    <tr>\n",
       "      <th>2020-04-09</th>\n",
       "      <td>9111.900391</td>\n",
       "    </tr>\n",
       "    <tr>\n",
       "      <th>2020-04-13</th>\n",
       "      <td>8993.849609</td>\n",
       "    </tr>\n",
       "    <tr>\n",
       "      <th>2020-04-15</th>\n",
       "      <td>8925.299805</td>\n",
       "    </tr>\n",
       "  </tbody>\n",
       "</table>\n",
       "<p>2021 rows × 1 columns</p>\n",
       "</div>"
      ],
      "text/plain": [
       "                  Close\n",
       "Date                   \n",
       "2012-01-03  4765.299805\n",
       "2012-01-04  4749.649902\n",
       "2012-01-05  4749.950195\n",
       "2012-01-06  4754.100098\n",
       "2012-01-09  4742.799805\n",
       "...                 ...\n",
       "2020-04-07  8792.200195\n",
       "2020-04-08  8748.750000\n",
       "2020-04-09  9111.900391\n",
       "2020-04-13  8993.849609\n",
       "2020-04-15  8925.299805\n",
       "\n",
       "[2021 rows x 1 columns]"
      ]
     },
     "execution_count": 5,
     "metadata": {},
     "output_type": "execute_result"
    }
   ],
   "source": [
    "#show the data\n",
    "data"
   ]
  },
  {
   "cell_type": "code",
   "execution_count": 6,
   "metadata": {
    "colab": {
     "base_uri": "https://localhost:8080/",
     "height": 558
    },
    "colab_type": "code",
    "executionInfo": {
     "elapsed": 4567,
     "status": "ok",
     "timestamp": 1587417396944,
     "user": {
      "displayName": "Bhumanyu Singh",
      "photoUrl": "",
      "userId": "01555403889424380237"
     },
     "user_tz": -330
    },
    "id": "CsSR8i2CSLR8",
    "outputId": "3e517a15-fb18-46a4-deab-a66680f8acc8"
   },
   "outputs": [
    {
     "data": {
      "image/png": "[encoded data removed]",
      "text/plain": [
       "<Figure size 1152x576 with 1 Axes>"
      ]
     },
     "metadata": {
      "needs_background": "light"
     },
     "output_type": "display_data"
    }
   ],
   "source": [
    "#Visualize the closing price history\n",
    "plt.style.use('fivethirtyeight')\n",
    "plt.figure(figsize = (16,8))\n",
    "plt.title('Close Price History')\n",
    "plt.xlabel('Date',fontsize=18)\n",
    "plt.ylabel('Price (Rs)',fontsize=18)\n",
    "plt.plot(data['Close'])\n",
    "plt.show()"
   ]
  },
  {
   "cell_type": "code",
   "execution_count": 7,
   "metadata": {
    "colab": {},
    "colab_type": "code",
    "id": "Jv7yDPvXS4PF"
   },
   "outputs": [],
   "source": [
    "#convert the dataframe into a numpy array\n",
    "dataset= data.values"
   ]
  },
  {
   "cell_type": "code",
   "execution_count": 8,
   "metadata": {
    "colab": {
     "base_uri": "https://localhost:8080/",
     "height": 134
    },
    "colab_type": "code",
    "executionInfo": {
     "elapsed": 4516,
     "status": "ok",
     "timestamp": 1587417396949,
     "user": {
      "displayName": "Bhumanyu Singh",
      "photoUrl": "",
      "userId": "01555403889424380237"
     },
     "user_tz": -330
    },
    "id": "ce_FSjvFXi2K",
    "outputId": "d8c3a2ff-58db-4448-c041-f9b0786390ce"
   },
   "outputs": [
    {
     "data": {
      "text/plain": [
       "array([[4765.29980469],\n",
       "       [4749.64990234],\n",
       "       [4749.95019531],\n",
       "       ...,\n",
       "       [9111.90039062],\n",
       "       [8993.84960938],\n",
       "       [8925.29980469]])"
      ]
     },
     "execution_count": 8,
     "metadata": {},
     "output_type": "execute_result"
    }
   ],
   "source": [
    "dataset"
   ]
  },
  {
   "cell_type": "code",
   "execution_count": 9,
   "metadata": {
    "colab": {
     "base_uri": "https://localhost:8080/",
     "height": 134
    },
    "colab_type": "code",
    "executionInfo": {
     "elapsed": 4482,
     "status": "ok",
     "timestamp": 1587417396954,
     "user": {
      "displayName": "Bhumanyu Singh",
      "photoUrl": "",
      "userId": "01555403889424380237"
     },
     "user_tz": -330
    },
    "id": "EW9fenACVLZp",
    "outputId": "cf0ec18a-b942-4565-ef0c-5179500cdb90"
   },
   "outputs": [
    {
     "data": {
      "text/plain": [
       "array([[0.00295295],\n",
       "       [0.00089902],\n",
       "       [0.00093843],\n",
       "       ...,\n",
       "       [0.57341041],\n",
       "       [0.55791716],\n",
       "       [0.54892053]])"
      ]
     },
     "execution_count": 9,
     "metadata": {},
     "output_type": "execute_result"
    }
   ],
   "source": [
    "#scale the data\n",
    "scaler= MinMaxScaler(feature_range=(0,1))\n",
    "scaled_data= scaler.fit_transform(dataset)\n",
    "scaled_data"
   ]
  },
  {
   "cell_type": "code",
   "execution_count": 10,
   "metadata": {
    "colab": {
     "base_uri": "https://localhost:8080/",
     "height": 34
    },
    "colab_type": "code",
    "executionInfo": {
     "elapsed": 4444,
     "status": "ok",
     "timestamp": 1587417396956,
     "user": {
      "displayName": "Bhumanyu Singh",
      "photoUrl": "",
      "userId": "01555403889424380237"
     },
     "user_tz": -330
    },
    "id": "xPY7SfZcXLXI",
    "outputId": "94f9e576-6884-49c1-bcc2-750c284bba43"
   },
   "outputs": [
    {
     "data": {
      "text/plain": [
       "1617"
      ]
     },
     "execution_count": 10,
     "metadata": {},
     "output_type": "execute_result"
    }
   ],
   "source": [
    "#Split the data for training and testing/validation sets. Using 80 percent data for training\n",
    "training_data_len= math.ceil(len(scaled_data)*0.8)\n",
    "training_data_len"
   ]
  },
  {
   "cell_type": "code",
   "execution_count": 11,
   "metadata": {
    "colab": {},
    "colab_type": "code",
    "id": "Un7oviUlYJR-"
   },
   "outputs": [],
   "source": [
    "#creating the training data set\n",
    "train_data= scaled_data[0:training_data_len,:]"
   ]
  },
  {
   "cell_type": "code",
   "execution_count": 12,
   "metadata": {
    "colab": {},
    "colab_type": "code",
    "id": "oMWFVTlDYnpr"
   },
   "outputs": [],
   "source": [
    "#split the data into x_train and y_train \n",
    "#as these will act as the independent and dependent variable respectably\n",
    "#creating empty lists\n",
    "x_train=[]\n",
    "y_train=[]\n",
    "#using previous 60 days data to predict the next price\n",
    "for i in range(60,len(train_data)):\n",
    "    x_train.append(train_data[i-60:i,0])\n",
    "    y_train.append(train_data[i,0])"
   ]
  },
  {
   "cell_type": "code",
   "execution_count": 13,
   "metadata": {
    "colab": {},
    "colab_type": "code",
    "id": "dv7cFZQZaRs8"
   },
   "outputs": [],
   "source": [
    "#X_train is an array in which one element is the closing price of 60 consecutive days for the index \n",
    "#x_train REMOVE HASH"
   ]
  },
  {
   "cell_type": "code",
   "execution_count": 14,
   "metadata": {
    "colab": {},
    "colab_type": "code",
    "id": "LwuzufusaT07"
   },
   "outputs": [],
   "source": [
    "#y_train REMOVE HASH"
   ]
  },
  {
   "cell_type": "code",
   "execution_count": 15,
   "metadata": {
    "colab": {
     "base_uri": "https://localhost:8080/",
     "height": 34
    },
    "colab_type": "code",
    "executionInfo": {
     "elapsed": 4377,
     "status": "ok",
     "timestamp": 1587417396965,
     "user": {
      "displayName": "Bhumanyu Singh",
      "photoUrl": "",
      "userId": "01555403889424380237"
     },
     "user_tz": -330
    },
    "id": "q0QyxaErbWcc",
    "outputId": "6aae9e24-53af-4aee-c846-d8b5b867d3cb"
   },
   "outputs": [
    {
     "data": {
      "text/plain": [
       "(1557, 60, 1)"
      ]
     },
     "execution_count": 15,
     "metadata": {},
     "output_type": "execute_result"
    }
   ],
   "source": [
    "#Convert x_train and y_train into numpy arrays\n",
    "x_train, y_train= np.array(x_train),np.array(y_train)\n",
    "#reshape the independent variable so that it can be used in ann model\n",
    "x_train= np.reshape(x_train,(x_train.shape[0],x_train.shape[1],1))\n",
    "x_train.shape"
   ]
  },
  {
   "cell_type": "code",
   "execution_count": 16,
   "metadata": {
    "colab": {},
    "colab_type": "code",
    "id": "c1mWvETNcLcx"
   },
   "outputs": [],
   "source": [
    "#Build the model for neural network\n",
    "model = Sequential()"
   ]
  },
  {
   "cell_type": "code",
   "execution_count": 17,
   "metadata": {
    "colab": {},
    "colab_type": "code",
    "id": "sMxB-JxPd6mX"
   },
   "outputs": [],
   "source": [
    "#add layers to the model\n",
    "model.add(LSTM(50,return_sequences=True,input_shape=(x_train.shape[1],1)))\n",
    "model.add(LSTM(50,return_sequences=False))\n",
    "model.add(Dense(25))\n",
    "model.add(Dense(1))"
   ]
  },
  {
   "cell_type": "code",
   "execution_count": 18,
   "metadata": {
    "colab": {},
    "colab_type": "code",
    "id": "7QL77uRaekT9"
   },
   "outputs": [],
   "source": [
    "#compile the model\n",
    "model.compile(optimizer='adam',loss='mean_squared_error')"
   ]
  },
  {
   "cell_type": "code",
   "execution_count": 19,
   "metadata": {
    "colab": {
     "base_uri": "https://localhost:8080/",
     "height": 67
    },
    "colab_type": "code",
    "executionInfo": {
     "elapsed": 70099,
     "status": "ok",
     "timestamp": 1587417462760,
     "user": {
      "displayName": "Bhumanyu Singh",
      "photoUrl": "",
      "userId": "01555403889424380237"
     },
     "user_tz": -330
    },
    "id": "o3QvQ8QKe_0u",
    "outputId": "a42f2a97-ee3f-44d6-c7ad-65e88b0f964f"
   },
   "outputs": [
    {
     "name": "stdout",
     "output_type": "stream",
     "text": [
      "1557/1557 [==============================] - 60s 35ms/step - loss: 0.0016\n"
     ]
    },
    {
     "data": {
      "text/plain": [
       "<keras.callbacks.History at 0x20ede2fb430>"
      ]
     },
     "execution_count": 19,
     "metadata": {},
     "output_type": "execute_result"
    }
   ],
   "source": [
    "#training or fitting the model\n",
    "model.fit(x_train,y_train,batch_size=1,epochs=1)"
   ]
  },
  {
   "cell_type": "code",
   "execution_count": 33,
   "metadata": {},
   "outputs": [
    {
     "name": "stdout",
     "output_type": "stream",
     "text": [
      "Model: \"sequential\"\n",
      "_________________________________________________________________\n",
      " Layer (type)                Output Shape              Param #   \n",
      "=================================================================\n",
      " lstm (LSTM)                 (None, 60, 50)            10400     \n",
      "                                                                 \n",
      " lstm_1 (LSTM)               (None, 50)                20200     \n",
      "                                                                 \n",
      " dense (Dense)               (None, 25)                1275      \n",
      "                                                                 \n",
      " dense_1 (Dense)             (None, 1)                 26        \n",
      "                                                                 \n",
      "=================================================================\n",
      "Total params: 31,901\n",
      "Trainable params: 31,901\n",
      "Non-trainable params: 0\n",
      "_________________________________________________________________\n"
     ]
    }
   ],
   "source": [
    "model.summary()"
   ]
  },
  {
   "cell_type": "code",
   "execution_count": 32,
   "metadata": {},
   "outputs": [
    {
     "name": "stdout",
     "output_type": "stream",
     "text": [
      "You must install pydot (`pip install pydot`) and install graphviz (see instructions at https://graphviz.gitlab.io/download/) for plot_model/model_to_dot to work.\n"
     ]
    }
   ],
   "source": [
    "#It is working on Colab Only\n",
    "from keras.utils.vis_utils import plot_model\n",
    "plot_model(model, to_file='model_plot.png', show_shapes=True, show_layer_names=True)"
   ]
  },
  {
   "cell_type": "code",
   "execution_count": 20,
   "metadata": {
    "colab": {
     "base_uri": "https://localhost:8080/",
     "height": 34
    },
    "colab_type": "code",
    "executionInfo": {
     "elapsed": 70060,
     "status": "ok",
     "timestamp": 1587417462764,
     "user": {
      "displayName": "Bhumanyu Singh",
      "photoUrl": "",
      "userId": "01555403889424380237"
     },
     "user_tz": -330
    },
    "id": "YBdgFz8LfI9e",
    "outputId": "558a8f7d-0b9f-4368-baea-ed3ebb0ef49a"
   },
   "outputs": [
    {
     "data": {
      "text/plain": [
       "464"
      ]
     },
     "execution_count": 20,
     "metadata": {},
     "output_type": "execute_result"
    }
   ],
   "source": [
    "#creating a testing data set\n",
    "test_data= scaled_data[training_data_len- 60:, : ]\n",
    "#training set had 1618 observations therefore testing set should have 2022-1618+60 observations\n",
    "len(test_data)"
   ]
  },
  {
   "cell_type": "code",
   "execution_count": 21,
   "metadata": {
    "colab": {},
    "colab_type": "code",
    "id": "D9sVRpzqgjQS"
   },
   "outputs": [],
   "source": [
    "#creating the independent and dependent variables for test data set\n",
    "x_test=[]\n",
    "y_test=dataset[training_data_len:,:]\n",
    "for i in range(60,len(test_data)):\n",
    "  x_test.append(test_data[i-60:i,0])"
   ]
  },
  {
   "cell_type": "code",
   "execution_count": 22,
   "metadata": {
    "colab": {
     "base_uri": "https://localhost:8080/",
     "height": 34
    },
    "colab_type": "code",
    "executionInfo": {
     "elapsed": 70014,
     "status": "ok",
     "timestamp": 1587417462769,
     "user": {
      "displayName": "Bhumanyu Singh",
      "photoUrl": "",
      "userId": "01555403889424380237"
     },
     "user_tz": -330
    },
    "id": "BJPq0ELbpvTf",
    "outputId": "ad22133c-73ef-4966-c497-5bbf138647fa"
   },
   "outputs": [
    {
     "data": {
      "text/plain": [
       "404"
      ]
     },
     "execution_count": 22,
     "metadata": {},
     "output_type": "execute_result"
    }
   ],
   "source": [
    "len(x_test)"
   ]
  },
  {
   "cell_type": "code",
   "execution_count": 23,
   "metadata": {
    "colab": {
     "base_uri": "https://localhost:8080/",
     "height": 34
    },
    "colab_type": "code",
    "executionInfo": {
     "elapsed": 69992,
     "status": "ok",
     "timestamp": 1587417462771,
     "user": {
      "displayName": "Bhumanyu Singh",
      "photoUrl": "",
      "userId": "01555403889424380237"
     },
     "user_tz": -330
    },
    "id": "NilxzLMKh5lT",
    "outputId": "9fd757c3-dadf-4c20-de27-93ef4866ebbe"
   },
   "outputs": [
    {
     "data": {
      "text/plain": [
       "(404, 60)"
      ]
     },
     "execution_count": 23,
     "metadata": {},
     "output_type": "execute_result"
    }
   ],
   "source": [
    "#converting the data to a numpy array\n",
    "x_test= np.array(x_test)\n",
    "x_test.shape"
   ]
  },
  {
   "cell_type": "code",
   "execution_count": 24,
   "metadata": {
    "colab": {
     "base_uri": "https://localhost:8080/",
     "height": 34
    },
    "colab_type": "code",
    "executionInfo": {
     "elapsed": 70606,
     "status": "ok",
     "timestamp": 1587417463398,
     "user": {
      "displayName": "Bhumanyu Singh",
      "photoUrl": "",
      "userId": "01555403889424380237"
     },
     "user_tz": -330
    },
    "id": "ObA4db3jieCz",
    "outputId": "00a3eae2-a591-430f-b59b-b0b64eb2bace"
   },
   "outputs": [
    {
     "data": {
      "text/plain": [
       "(404, 60, 1)"
      ]
     },
     "execution_count": 24,
     "metadata": {},
     "output_type": "execute_result"
    }
   ],
   "source": [
    "#reshape the data\n",
    "x_test= np.reshape(x_test,(x_test.shape[0],x_test.shape[1],1))\n",
    "x_test.shape"
   ]
  },
  {
   "cell_type": "code",
   "execution_count": 25,
   "metadata": {
    "colab": {
     "base_uri": "https://localhost:8080/",
     "height": 34
    },
    "colab_type": "code",
    "executionInfo": {
     "elapsed": 70596,
     "status": "ok",
     "timestamp": 1587417463401,
     "user": {
      "displayName": "Bhumanyu Singh",
      "photoUrl": "",
      "userId": "01555403889424380237"
     },
     "user_tz": -330
    },
    "id": "F43TCV3yiukS",
    "outputId": "98b523e3-d8d6-4c51-ced0-cd3df566d1e1"
   },
   "outputs": [
    {
     "name": "stdout",
     "output_type": "stream",
     "text": [
      "13/13 [==============================] - 2s 22ms/step\n"
     ]
    },
    {
     "data": {
      "text/plain": [
       "404"
      ]
     },
     "execution_count": 25,
     "metadata": {},
     "output_type": "execute_result"
    }
   ],
   "source": [
    "#Get the model's predicted price values for the validation set\n",
    "predictions = model.predict(x_test)\n",
    "len(predictions)"
   ]
  },
  {
   "cell_type": "code",
   "execution_count": 26,
   "metadata": {
    "colab": {
     "base_uri": "https://localhost:8080/",
     "height": 34
    },
    "colab_type": "code",
    "executionInfo": {
     "elapsed": 70587,
     "status": "ok",
     "timestamp": 1587417463404,
     "user": {
      "displayName": "Bhumanyu Singh",
      "photoUrl": "",
      "userId": "01555403889424380237"
     },
     "user_tz": -330
    },
    "id": "euqfurANjJBu",
    "outputId": "0ea39e04-1b4e-40dc-a482-bd05dfbb56c6"
   },
   "outputs": [
    {
     "data": {
      "text/plain": [
       "404"
      ]
     },
     "execution_count": 26,
     "metadata": {},
     "output_type": "execute_result"
    }
   ],
   "source": [
    "#Descale the predicted index prices\n",
    "predictions = scaler.inverse_transform(predictions)\n",
    "len(predictions)"
   ]
  },
  {
   "cell_type": "code",
   "execution_count": 27,
   "metadata": {
    "colab": {
     "base_uri": "https://localhost:8080/",
     "height": 34
    },
    "colab_type": "code",
    "executionInfo": {
     "elapsed": 70577,
     "status": "ok",
     "timestamp": 1587417463409,
     "user": {
      "displayName": "Bhumanyu Singh",
      "photoUrl": "",
      "userId": "01555403889424380237"
     },
     "user_tz": -330
    },
    "id": "YiSAJywsjTgx",
    "outputId": "2ea4c61e-5342-4044-91dc-972f520a5cf8"
   },
   "outputs": [
    {
     "data": {
      "text/plain": [
       "277.68357944751233"
      ]
     },
     "execution_count": 27,
     "metadata": {},
     "output_type": "execute_result"
    }
   ],
   "source": [
    "#Get the Root mean squared error or RMSE for the model to check the efficiency of the model\n",
    "rmse= np.sqrt(np.mean(((predictions- y_test)**2)))\n",
    "rmse"
   ]
  },
  {
   "cell_type": "code",
   "execution_count": 28,
   "metadata": {
    "colab": {
     "base_uri": "https://localhost:8080/",
     "height": 118
    },
    "colab_type": "code",
    "executionInfo": {
     "elapsed": 70565,
     "status": "ok",
     "timestamp": 1587417463412,
     "user": {
      "displayName": "Bhumanyu Singh",
      "photoUrl": "",
      "userId": "01555403889424380237"
     },
     "user_tz": -330
    },
    "id": "z4VjUqiVkH7I",
    "outputId": "3288dc0e-54ef-4064-c3c1-3b4dc0cc176e"
   },
   "outputs": [
    {
     "name": "stderr",
     "output_type": "stream",
     "text": [
      "C:\\Users\\rohitverma\\AppData\\Local\\Temp\\ipykernel_35280\\347123548.py:4: SettingWithCopyWarning: \n",
      "A value is trying to be set on a copy of a slice from a DataFrame.\n",
      "Try using .loc[row_indexer,col_indexer] = value instead\n",
      "\n",
      "See the caveats in the documentation: https://pandas.pydata.org/pandas-docs/stable/user_guide/indexing.html#returning-a-view-versus-a-copy\n",
      "  valid['predictions']= predictions\n"
     ]
    }
   ],
   "source": [
    "#variables used for plotting the data\n",
    "train = data[:training_data_len]\n",
    "valid = data[training_data_len:]\n",
    "valid['predictions']= predictions\n"
   ]
  },
  {
   "cell_type": "code",
   "execution_count": 29,
   "metadata": {
    "colab": {
     "base_uri": "https://localhost:8080/",
     "height": 617
    },
    "colab_type": "code",
    "executionInfo": {
     "elapsed": 72146,
     "status": "ok",
     "timestamp": 1587417465010,
     "user": {
      "displayName": "Bhumanyu Singh",
      "photoUrl": "",
      "userId": "01555403889424380237"
     },
     "user_tz": -330
    },
    "id": "TDLu36QSkfXJ",
    "outputId": "3868f347-75ec-46cc-bdcc-b80c902157ab"
   },
   "outputs": [
    {
     "data": {
      "image/png": "[encoded data removed]",
      "text/plain": [
       "<Figure size 1296x648 with 1 Axes>"
      ]
     },
     "metadata": {
      "needs_background": "light"
     },
     "output_type": "display_data"
    }
   ],
   "source": [
    "#visualize the data\n",
    "plt.figure(figsize=(18,9))\n",
    "plt.title('Model')\n",
    "plt.xlabel('Date',fontsize=20)\n",
    "plt.ylabel('Index Closing price (Rs)',fontsize=20)\n",
    "plt.plot(train['Close'])\n",
    "plt.plot(valid[['Close','predictions']])\n",
    "plt.legend(['TRAIN','VALID','PREDICTIONS'],loc='lower right')\n",
    "plt.show()"
   ]
  },
  {
   "cell_type": "code",
   "execution_count": 30,
   "metadata": {
    "colab": {
     "base_uri": "https://localhost:8080/",
     "height": 431
    },
    "colab_type": "code",
    "executionInfo": {
     "elapsed": 72128,
     "status": "ok",
     "timestamp": 1587417465013,
     "user": {
      "displayName": "Bhumanyu Singh",
      "photoUrl": "",
      "userId": "01555403889424380237"
     },
     "user_tz": -330
    },
    "id": "5Fjcopy4srPL",
    "outputId": "439af7cd-7e0b-414e-e6d1-05a1cf23163b"
   },
   "outputs": [
    {
     "data": {
      "text/html": [
       "<div>\n",
       "<style scoped>\n",
       "    .dataframe tbody tr th:only-of-type {\n",
       "        vertical-align: middle;\n",
       "    }\n",
       "\n",
       "    .dataframe tbody tr th {\n",
       "        vertical-align: top;\n",
       "    }\n",
       "\n",
       "    .dataframe thead th {\n",
       "        text-align: right;\n",
       "    }\n",
       "</style>\n",
       "<table border=\"1\" class=\"dataframe\">\n",
       "  <thead>\n",
       "    <tr style=\"text-align: right;\">\n",
       "      <th></th>\n",
       "      <th>Close</th>\n",
       "      <th>predictions</th>\n",
       "    </tr>\n",
       "    <tr>\n",
       "      <th>Date</th>\n",
       "      <th></th>\n",
       "      <th></th>\n",
       "    </tr>\n",
       "  </thead>\n",
       "  <tbody>\n",
       "    <tr>\n",
       "      <th>2018-08-10</th>\n",
       "      <td>11429.500000</td>\n",
       "      <td>11455.808594</td>\n",
       "    </tr>\n",
       "    <tr>\n",
       "      <th>2018-08-13</th>\n",
       "      <td>11355.750000</td>\n",
       "      <td>11473.184570</td>\n",
       "    </tr>\n",
       "    <tr>\n",
       "      <th>2018-08-14</th>\n",
       "      <td>11435.099609</td>\n",
       "      <td>11475.110352</td>\n",
       "    </tr>\n",
       "    <tr>\n",
       "      <th>2018-08-16</th>\n",
       "      <td>11385.049805</td>\n",
       "      <td>11480.617188</td>\n",
       "    </tr>\n",
       "    <tr>\n",
       "      <th>2018-08-17</th>\n",
       "      <td>11470.750000</td>\n",
       "      <td>11479.412109</td>\n",
       "    </tr>\n",
       "    <tr>\n",
       "      <th>...</th>\n",
       "      <td>...</td>\n",
       "      <td>...</td>\n",
       "    </tr>\n",
       "    <tr>\n",
       "      <th>2020-04-07</th>\n",
       "      <td>8792.200195</td>\n",
       "      <td>8446.949219</td>\n",
       "    </tr>\n",
       "    <tr>\n",
       "      <th>2020-04-08</th>\n",
       "      <td>8748.750000</td>\n",
       "      <td>8488.453125</td>\n",
       "    </tr>\n",
       "    <tr>\n",
       "      <th>2020-04-09</th>\n",
       "      <td>9111.900391</td>\n",
       "      <td>8552.498047</td>\n",
       "    </tr>\n",
       "    <tr>\n",
       "      <th>2020-04-13</th>\n",
       "      <td>8993.849609</td>\n",
       "      <td>8665.705078</td>\n",
       "    </tr>\n",
       "    <tr>\n",
       "      <th>2020-04-15</th>\n",
       "      <td>8925.299805</td>\n",
       "      <td>8773.932617</td>\n",
       "    </tr>\n",
       "  </tbody>\n",
       "</table>\n",
       "<p>404 rows × 2 columns</p>\n",
       "</div>"
      ],
      "text/plain": [
       "                   Close   predictions\n",
       "Date                                  \n",
       "2018-08-10  11429.500000  11455.808594\n",
       "2018-08-13  11355.750000  11473.184570\n",
       "2018-08-14  11435.099609  11475.110352\n",
       "2018-08-16  11385.049805  11480.617188\n",
       "2018-08-17  11470.750000  11479.412109\n",
       "...                  ...           ...\n",
       "2020-04-07   8792.200195   8446.949219\n",
       "2020-04-08   8748.750000   8488.453125\n",
       "2020-04-09   9111.900391   8552.498047\n",
       "2020-04-13   8993.849609   8665.705078\n",
       "2020-04-15   8925.299805   8773.932617\n",
       "\n",
       "[404 rows x 2 columns]"
      ]
     },
     "execution_count": 30,
     "metadata": {},
     "output_type": "execute_result"
    }
   ],
   "source": [
    "valid"
   ]
  },
  {
   "cell_type": "code",
   "execution_count": 31,
   "metadata": {
    "colab": {
     "base_uri": "https://localhost:8080/",
     "height": 617
    },
    "colab_type": "code",
    "executionInfo": {
     "elapsed": 72085,
     "status": "ok",
     "timestamp": 1587417465015,
     "user": {
      "displayName": "Bhumanyu Singh",
      "photoUrl": "",
      "userId": "01555403889424380237"
     },
     "user_tz": -330
    },
    "id": "gb_XX3MIt40H",
    "outputId": "e7fcf4bb-5e0e-4ec5-e266-a0ec85b0d4f3"
   },
   "outputs": [
    {
     "data": {
      "image/png": "[encoded data removed]",
      "text/plain": [
       "<Figure size 1296x648 with 1 Axes>"
      ]
     },
     "metadata": {
      "needs_background": "light"
     },
     "output_type": "display_data"
    }
   ],
   "source": [
    "plt.figure(figsize=(18,9))\n",
    "plt.title('Model')\n",
    "plt.xlabel('Date',fontsize=20)\n",
    "plt.ylabel('Index Closing price (Rs)',fontsize=20)\n",
    "plt.plot(valid[['Close','predictions']])\n",
    "plt.legend(['ACTUAL','PREDICTIONS'],loc='lower center')\n",
    "plt.show()"
   ]
  },
  {
   "cell_type": "code",
   "execution_count": null,
   "metadata": {
    "colab": {},
    "colab_type": "code",
    "id": "2RBhz7IcuoS1"
   },
   "outputs": [],
   "source": []
  }
 ],
 "metadata": {
  "colab": {
   "authorship_tag": "ABX9TyMoIjPIOEic5QfUQj/JpVqN",
   "collapsed_sections": [],
   "name": "index_prediction_ann.ipynb",
   "provenance": []
  },
  "kernelspec": {
   "display_name": "datasciencekernel",
   "language": "python",
   "name": "datasciencekernel"
  },
  "language_info": {
   "codemirror_mode": {
    "name": "ipython",
    "version": 3
   },
   "file_extension": ".py",
   "mimetype": "text/x-python",
   "name": "python",
   "nbconvert_exporter": "python",
   "pygments_lexer": "ipython3",
   "version": "3.10.3"
  }
 },
 "nbformat": 4,
 "nbformat_minor": 1
}
